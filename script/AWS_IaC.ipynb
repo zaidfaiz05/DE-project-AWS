{
  "nbformat": 4,
  "nbformat_minor": 0,
  "metadata": {
    "colab": {
      "provenance": []
    },
    "kernelspec": {
      "name": "python3",
      "display_name": "Python 3"
    },
    "language_info": {
      "name": "python"
    }
  },
  "cells": [
    {
      "cell_type": "code",
      "execution_count": 9,
      "metadata": {
        "id": "zq1XU2t1z_o-",
        "colab": {
          "base_uri": "https://localhost:8080/"
        },
        "outputId": "c8e023f4-e0af-48ce-f26c-4c14edaeabe2"
      },
      "outputs": [
        {
          "output_type": "stream",
          "name": "stdout",
          "text": [
            "Requirement already satisfied: boto3 in /usr/local/lib/python3.11/dist-packages (1.37.19)\n",
            "Requirement already satisfied: botocore<1.38.0,>=1.37.19 in /usr/local/lib/python3.11/dist-packages (from boto3) (1.37.19)\n",
            "Requirement already satisfied: jmespath<2.0.0,>=0.7.1 in /usr/local/lib/python3.11/dist-packages (from boto3) (1.0.1)\n",
            "Requirement already satisfied: s3transfer<0.12.0,>=0.11.0 in /usr/local/lib/python3.11/dist-packages (from boto3) (0.11.4)\n",
            "Requirement already satisfied: python-dateutil<3.0.0,>=2.1 in /usr/local/lib/python3.11/dist-packages (from botocore<1.38.0,>=1.37.19->boto3) (2.8.2)\n",
            "Requirement already satisfied: urllib3!=2.2.0,<3,>=1.25.4 in /usr/local/lib/python3.11/dist-packages (from botocore<1.38.0,>=1.37.19->boto3) (2.3.0)\n",
            "Requirement already satisfied: six>=1.5 in /usr/local/lib/python3.11/dist-packages (from python-dateutil<3.0.0,>=2.1->botocore<1.38.0,>=1.37.19->boto3) (1.17.0)\n"
          ]
        }
      ],
      "source": [
        "%pip install boto3\n",
        "import boto3\n",
        "import pandas as pd\n",
        "from io import StringIO"
      ]
    },
    {
      "cell_type": "code",
      "source": [
        "AWS_ACCESS_KEY=\"\"\n",
        "AWS_SECRET_KEY=\"\"\n",
        "AWS_REGION=\"ap-south-1\"\n",
        "SCHEMA_NAME=\"covid_19\"\n",
        "S3_STAGING_DIR=\"\"\n",
        "S3_BUCKET_NAME=\"\"\n",
        "S3_OUTPUT_DIRECTORY=\"\""
      ],
      "metadata": {
        "id": "u0jOhCOdr2sG"
      },
      "execution_count": null,
      "outputs": []
    },
    {
      "cell_type": "markdown",
      "source": [
        "### Connect to Athena"
      ],
      "metadata": {
        "id": "hJ3LmTbQVNcq"
      }
    },
    {
      "cell_type": "code",
      "source": [
        "athena_client= boto3.client(\n",
        "    \"athena\",\n",
        "    aws_access_key_id=AWS_ACCESS_KEY,\n",
        "    aws_secret_access_key=AWS_SECRET_KEY,\n",
        "    region_name=AWS_REGION\n",
        ")"
      ],
      "metadata": {
        "id": "_YMNvD2gsvUt"
      },
      "execution_count": null,
      "outputs": []
    },
    {
      "cell_type": "code",
      "source": [
        "Dict= {}\n",
        "def download_and_load_query_results(\n",
        "    client: boto3.client, query_response: Dict\n",
        ") -> pd.DataFrame:\n",
        "    while True:\n",
        "      try:\n",
        "        #This function only loads the first 1000 rows\n",
        "        client.get_query_results(\n",
        "            QueryExecutionId=query_response[\"QueryExecutionId\"]\n",
        "        )\n",
        "        break\n",
        "    except Exception as err:\n",
        "      if \"not yet finished\" in str(err):\n",
        "        time.sleep(0.001)\n",
        "      else:\n",
        "        raise err\n",
        "    time_file_location: str=\"athena_query_resulys.csv\"\n",
        "    s3_client= boto3.client(\n",
        "        \"s3\",\n",
        "        aws_access_key_id=AWS_ACCESS_KEY,\n",
        "        aws_secret_access_key=AWS_SECRET_KEY,\n",
        "        region_name=AWS_REGION,\n",
        "    )\n",
        "    s3_client.download.file(\n",
        "        S3_BUCKET_NAME,\n",
        "        f\"{S3_OUTPUT_DIRECTORY}/{query_response['QueryExecutionId']}.csv\",\n",
        "        temp_file_location,\n",
        "    )\n",
        "    return pd.read.csv(temp_file_location)"
      ],
      "metadata": {
        "id": "qFNUcaNutKQh"
      },
      "execution_count": null,
      "outputs": []
    },
    {
      "cell_type": "markdown",
      "source": [
        "### Import dataset into pandas dataframe"
      ],
      "metadata": {
        "id": "i5lkWa4oV0nM"
      }
    },
    {
      "cell_type": "code",
      "source": [
        "response= athena_client.start_query_execution(\n",
        "    QueryString=\"SELECT * FROM enigma_jhud\",\n",
        "    QueryExecutionContext={\"Database\":SCHEMA_NAME},\n",
        "    ResultConfiguration={\n",
        "        \"OutputLocation\": S3_STAGING_DIR,\n",
        "        \"EncryptionConfiguration\": {\"EncryptionOption\":\"SSE_S3\"},\n",
        "    },\n",
        ")"
      ],
      "metadata": {
        "id": "GrfBDb-F3UyI"
      },
      "execution_count": null,
      "outputs": []
    },
    {
      "cell_type": "code",
      "source": [
        "enigma_jhud= download_and_load_query_results(athena_client,response)"
      ],
      "metadata": {
        "id": "1Xt9hS0i5HTA"
      },
      "execution_count": null,
      "outputs": []
    },
    {
      "cell_type": "code",
      "source": [
        "response= athena_client.start_query_execution(\n",
        "    QueryString=\"SELECT * FROM nytimes_data_in_usa_us_county\",\n",
        "    QueryExecutionContext={\"Database\":SCHEMA_NAME},\n",
        "    ResultConfiguration={\n",
        "        \"OutputLocation\": S3_STAGING_DIR,\n",
        "        \"EncryptionConfiguration\": {\"EncryptionOption\":\"SSE_S3\"},\n",
        "    },\n",
        ")\n",
        "nytimes_data_in_usa_us_county= download_and_load_query_results(athena_client,response)"
      ],
      "metadata": {
        "id": "jMuMLZ_h5O-f"
      },
      "execution_count": null,
      "outputs": []
    },
    {
      "cell_type": "code",
      "source": [
        "response= athena_client.start_query_execution(\n",
        "    QueryString=\"SELECT * FROM nytimes_data_in_usa_us_states\",\n",
        "    QueryExecutionContext={\"Database\":SCHEMA_NAME},\n",
        "    ResultConfiguration={\n",
        "        \"OutputLocation\": S3_STAGING_DIR,\n",
        "        \"EncryptionConfiguration\": {\"EncryptionOption\":\"SSE_S3\"},\n",
        "    },\n",
        ")\n",
        "nytimes_data_in_usa_us_states= download_and_load_query_results(athena_client,response)"
      ],
      "metadata": {
        "id": "x6LcHXMj5tn0"
      },
      "execution_count": null,
      "outputs": []
    },
    {
      "cell_type": "code",
      "source": [
        "response= athena_client.start_query_execution(\n",
        "    QueryString=\"SELECT * FROM static_datacountrycode\",\n",
        "    QueryExecutionContext={\"Database\":SCHEMA_NAME},\n",
        "    ResultConfiguration={\n",
        "        \"OutputLocation\": S3_STAGING_DIR,\n",
        "        \"EncryptionConfiguration\": {\"EncryptionOption\":\"SSE_S3\"},\n",
        "    },\n",
        ")\n",
        "static_datacountrycode= download_and_load_query_results(athena_client,response)"
      ],
      "metadata": {
        "id": "GU9Ruwje5yIP"
      },
      "execution_count": null,
      "outputs": []
    },
    {
      "cell_type": "code",
      "source": [
        "# run several query in athena\n",
        "response= athena_client.start_query_execution(\n",
        "    QueryString=\"SELECT * FROM static_datacountrypopulation\",\n",
        "    QueryExecutionContext={\"Database\":SCHEMA_NAME},\n",
        "    ResultConfiguration={\n",
        "        \"OutputLocation\": S3_STAGING_DIR,\n",
        "        \"EncryptionConfiguration\": {\"EncryptionOption\":\"SSE_S3\"},\n",
        "    },\n",
        ")\n",
        "static_datacountrypopulation= download_and_load_query_results(athena_client,response)"
      ],
      "metadata": {
        "id": "fQkDzo2l569J"
      },
      "execution_count": null,
      "outputs": []
    },
    {
      "cell_type": "code",
      "source": [
        "response= athena_client.start_query_execution(\n",
        "    QueryString=\"SELECT * FROM rearc_covid_19_testing_dstatus_daily\",\n",
        "    QueryExecutionContext={\"Database\":SCHEMA_NAME},\n",
        "    ResultConfiguration={\n",
        "        \"OutputLocation\": S3_STAGING_DIR,\n",
        "        \"EncryptionConfiguration\": {\"EncryptionOption\":\"SSE_S3\"},\n",
        "    },\n",
        ")\n",
        "rearc_covid_19_testing_dstatus_daily= download_and_load_query_results(athena_client,response)"
      ],
      "metadata": {
        "id": "XpxGA1_76LUZ"
      },
      "execution_count": null,
      "outputs": []
    },
    {
      "cell_type": "code",
      "source": [
        "response= athena_client.start_query_execution(\n",
        "    QueryString=\"SELECT * FROM rearc_usa_hospital_beds\",\n",
        "    QueryExecutionContext={\"Database\":SCHEMA_NAME},\n",
        "    ResultConfiguration={\n",
        "        \"OutputLocation\": S3_STAGING_DIR,\n",
        "        \"EncryptionConfiguration\": {\"EncryptionOption\":\"SSE_S3\"},\n",
        "    },\n",
        ")\n",
        "rearc_usa_hospital_beds= download_and_load_query_results(athena_client,response)"
      ],
      "metadata": {
        "id": "MDmIdcOh6Vs5"
      },
      "execution_count": null,
      "outputs": []
    },
    {
      "cell_type": "code",
      "source": [
        "response= athena_client.start_query_execution(\n",
        "    QueryString=\"SELECT * FROM rearc_covid_19_testing_dstatus_total_latest\",\n",
        "    QueryExecutionContext={\"Database\":SCHEMA_NAME},\n",
        "    ResultConfiguration={\n",
        "        \"OutputLocation\": S3_STAGING_DIR,\n",
        "        \"EncryptionConfiguration\": {\"EncryptionOption\":\"SSE_S3\"},\n",
        "    },\n",
        ")\n",
        "rearc_usa_hospital_beds= download_and_load_query_results(athena_client,response)"
      ],
      "metadata": {
        "id": "lMY9NiFV6bXQ"
      },
      "execution_count": null,
      "outputs": []
    },
    {
      "cell_type": "code",
      "source": [
        "response= athena_client.start_query_execution(\n",
        "    QueryString=\"SELECT * FROM rearc_covid_19_testing_data_states_dailystates_daily\",\n",
        "    QueryExecutionContext={\"Database\":SCHEMA_NAME},\n",
        "    ResultConfiguration={\n",
        "        \"OutputLocation\": S3_STAGING_DIR,\n",
        "        \"EncryptionConfiguration\": {\"EncryptionOption\":\"SSE_S3\"},\n",
        "    },\n",
        ")\n",
        "rearc_covid_19_testing_data_states_dailystates_daily= download_and_load_query_results(athena_client,response)"
      ],
      "metadata": {
        "id": "vvF_7FZ86t8i"
      },
      "execution_count": null,
      "outputs": []
    },
    {
      "cell_type": "code",
      "source": [
        "response= athena_client.start_query_execution(\n",
        "    QueryString=\"SELECT * FROM static_datastate_abv\",\n",
        "    QueryExecutionContext={\"Database\":SCHEMA_NAME},\n",
        "    ResultConfiguration={\n",
        "        \"OutputLocation\": S3_STAGING_DIR,\n",
        "        \"EncryptionConfiguration\": {\"EncryptionOption\":\"SSE_S3\"},\n",
        "    },\n",
        ")\n",
        "static_datastate_abv= download_and_load_query_results(athena_client,response)"
      ],
      "metadata": {
        "id": "Soy4LW986578"
      },
      "execution_count": null,
      "outputs": []
    },
    {
      "cell_type": "code",
      "source": [
        "new_header= static_datastate_abv.iloc[0]\n",
        "static_datastate_abv= static_datastate_abv[1:]\n",
        "static_datastate_abv.columns=new_header"
      ],
      "metadata": {
        "id": "4XyONrc_7cbw"
      },
      "execution_count": null,
      "outputs": []
    },
    {
      "cell_type": "markdown",
      "source": [
        "### Create Star Schema"
      ],
      "metadata": {
        "id": "Lbp6-o9uWcVg"
      }
    },
    {
      "cell_type": "code",
      "source": [
        "factCovid_1= enigma_jhud[['fips','province_state','country_region','confirmed','deaths','recovered','active']]\n",
        "factCovid_2= rearc_covid_19_testing_data_states_dailystates_daily[['fips','date','positive','negative','hospitalizedcurrently','hospitalized','hospitalizeddischarged']]\n",
        "factCovid= pd.merge(factCovid_1,factCovid_2, on='fips',how='inner')"
      ],
      "metadata": {
        "id": "a0ox82pw7oJQ"
      },
      "execution_count": null,
      "outputs": []
    },
    {
      "cell_type": "code",
      "source": [
        "dimRegion_1= enigma_jhud[['fips','provice_state','latitude','longitude']]\n",
        "dimRegion_2= nytimes_data_in_usa_us_country[['fips','county','state']]\n",
        "dimRegion= pd.merge(dimRegion_1,dimRegion_2, on='fips', how='inner')"
      ],
      "metadata": {
        "id": "UtitE7PU9z9p"
      },
      "execution_count": null,
      "outputs": []
    },
    {
      "cell_type": "code",
      "source": [
        "dimHospital= rearc_usa_hospital_beds[['fips','state_name','latitude','longitude','hq_address','hospital_name','hospital_type','hq_city','hq_state']]"
      ],
      "metadata": {
        "id": "tzVIEPzo-l0S"
      },
      "execution_count": null,
      "outputs": []
    },
    {
      "cell_type": "code",
      "source": [
        "dimDate= rearc_covid_19_testing_data_states_dailystates_daily[['fips','date',]]"
      ],
      "metadata": {
        "id": "CzBEs4TZ_N41"
      },
      "execution_count": null,
      "outputs": []
    },
    {
      "cell_type": "code",
      "source": [
        "dimDate['date']= pd.to_datetime(dimDate['date'], format='%Y%m%d')"
      ],
      "metadata": {
        "id": "uFiYC9FNDfo3"
      },
      "execution_count": null,
      "outputs": []
    },
    {
      "cell_type": "code",
      "source": [
        "dimDate['year']= dimDate['date'].dt.year\n",
        "dimDate['month']= dimDate['date'].dt.month\n",
        "dimDate['day_of_week']= dimDate['date'].dt.dayofweek"
      ],
      "metadata": {
        "id": "cQR4HAZkD5MS"
      },
      "execution_count": null,
      "outputs": []
    },
    {
      "cell_type": "markdown",
      "source": [
        "### Export schema to S3"
      ],
      "metadata": {
        "id": "lkjaeJBBWuk_"
      }
    },
    {
      "cell_type": "code",
      "source": [
        "bucket= 'zaid-covid-de-project'"
      ],
      "metadata": {
        "id": "nNAmEG52EMhj"
      },
      "execution_count": null,
      "outputs": []
    },
    {
      "cell_type": "code",
      "source": [
        "csv_buffer= StringIO()\n",
        "factCovid.to_csv(csv_buffer)\n",
        "s3_resource=boto3.resource('s3')\n",
        "s3_resouce.Object(bucket,'output/factCovid.csv').put(Body=csv_buffer.getvalue())"
      ],
      "metadata": {
        "id": "PeQ1w2c2EnYm"
      },
      "execution_count": null,
      "outputs": []
    },
    {
      "cell_type": "code",
      "source": [
        "csv_buffer= StringIO()\n",
        "dimDate.to_csv(csv_buffer)\n",
        "s3_resource=boto3.resource('s3')\n",
        "s3_resouce.Object(bucket,'output/dimDate.csv').put(Body=csv_buffer.getvalue())"
      ],
      "metadata": {
        "id": "0asznlXrFtV4"
      },
      "execution_count": null,
      "outputs": []
    },
    {
      "cell_type": "code",
      "source": [
        "csv_buffer= StringIO()\n",
        "dimHospital.to_csv(csv_buffer)\n",
        "s3_resource=boto3.resource('s3')\n",
        "s3_resouce.Object(bucket,'output/dimHospital.csv').put(Body=csv_buffer.getvalue())"
      ],
      "metadata": {
        "id": "MwqSeQY-FyGG"
      },
      "execution_count": null,
      "outputs": []
    },
    {
      "cell_type": "code",
      "source": [
        "csv_buffer= StringIO()\n",
        "dimRegion.to_csv(csv_buffer)\n",
        "s3_resource=boto3.resource('s3')\n",
        "s3_resouce.Object(bucket,'output/dimRegion.csv').put(Body=csv_buffer.getvalue())"
      ],
      "metadata": {
        "id": "t0h6B7s-FynX"
      },
      "execution_count": null,
      "outputs": []
    },
    {
      "cell_type": "code",
      "source": [
        "dimDatasql= pd.io.sql.get_schema(dimDate.reset_index(),'dimDate')\n",
        "print(''.join(dimDatesql))"
      ],
      "metadata": {
        "id": "Sh7cMJ9aRzzh"
      },
      "execution_count": null,
      "outputs": []
    },
    {
      "cell_type": "code",
      "source": [
        "factCovidsql= pd.io.sql.get_schema(factCovid.reset_index(),'factCovid')\n",
        "print(''.join(factCovidsql))"
      ],
      "metadata": {
        "id": "85m848U7TDt5"
      },
      "execution_count": null,
      "outputs": []
    },
    {
      "cell_type": "code",
      "source": [
        "dimRegionsql= pd.io.sql.get_schema(dimRegion.reset_index(),'dimRegion')\n",
        "print(''.join(dimRegionsql))"
      ],
      "metadata": {
        "id": "NpNpqXLVTS7b"
      },
      "execution_count": null,
      "outputs": []
    },
    {
      "cell_type": "code",
      "source": [
        "dimHospitalsql= pd.io.sql.get_schema(dimHospital.reset_index(),'dimHospital')\n",
        "print(''.join(dimHospitalsql))"
      ],
      "metadata": {
        "id": "1yfPigAOTpWb"
      },
      "execution_count": null,
      "outputs": []
    },
    {
      "cell_type": "markdown",
      "source": [
        "### Connect to Redshift"
      ],
      "metadata": {
        "id": "KS6BzkBYXawJ"
      }
    },
    {
      "cell_type": "code",
      "source": [
        "%pip install redshift-connector\n",
        "import redshift_connecter"
      ],
      "metadata": {
        "id": "ecZ80RNHVJDi"
      },
      "execution_count": null,
      "outputs": []
    },
    {
      "cell_type": "code",
      "source": [
        "conn= redshift_connecter.connect(\n",
        "    host='',\n",
        "    database='',\n",
        "    user='',\n",
        "    password=''\n",
        ")"
      ],
      "metadata": {
        "id": "HuS5BIRiVuWH"
      },
      "execution_count": null,
      "outputs": []
    },
    {
      "cell_type": "code",
      "source": [
        "conn.autommit= True"
      ],
      "metadata": {
        "id": "6l7QrvVTWeVP"
      },
      "execution_count": null,
      "outputs": []
    },
    {
      "cell_type": "code",
      "source": [
        "cursor= redshift_connecter.Cursor= conn.cursor()"
      ],
      "metadata": {
        "id": "bw-9cNggWlIV"
      },
      "execution_count": null,
      "outputs": []
    },
    {
      "cell_type": "code",
      "source": [
        "cursor.excecute(\"\"\"\n",
        "CREATE TABLE \"dimDate\" (\n",
        "  \"index\" INTEGER,\n",
        "  \"fips\" INTEGER,\n",
        "  \"date\" TIMESTAMP,\n",
        "  \"year\" INTEGER,\n",
        "  \"month\" INTEGER,\n",
        "  \"day_of_week\" INTEGER\n",
        ")\n",
        "\"\"\")\n",
        "\n",
        "cursor.excecute(\"\"\"\n",
        "CREATE TABLE \"dimHospital\" (\n",
        "  \"index\" INTEGER,\n",
        "  \"fips\" INTEGER,\n",
        "  \"state_name\" TEXT,\n",
        "  \"latitude\" REAL,\n",
        "  \"longitude\" REAL,\n",
        "  \"hd_address\" TEXT,\n",
        "  \"hospital_name\" TEXT,\n",
        "  \"hospital_type\" TEXT,\n",
        "  \"hq_city\" TEXT,\n",
        "  \"hq_state\" TEXT\n",
        ")\n",
        "\"\"\")\n",
        "\n",
        "cursor.excecute(\"\"\"\n",
        "CREATE TABLE \"factCovid\" (\n",
        "  \"index\" INTEGER,\n",
        "  \"fips\" INTEGER,\n",
        "  \"province_state\" TEXT,\n",
        "  \"country_region\" TEXT,\n",
        "  \"confirmed\" REAL,\n",
        "  \"deaths\" REAL,\n",
        "  \"recovered\" REAL,\n",
        "  \"active\" REAL,\n",
        "  \"date\" INTEGER,\n",
        "  \"positive\" REAL,\n",
        "  \"negative\" REAL,\n",
        "  \"hospitalizedcurrently\" REAL,\n",
        "  \"hospitalized\" REAL,\n",
        "  \"hospitalizeddischarged\" REAL\n",
        ")\n",
        "\"\"\")\n",
        "\n",
        "cursor.excecute(\"\"\"\n",
        "CREATE TABLE \"factCovid\" (\n",
        "  \"index\" INTEGER,\n",
        "  \"fips\" INTEGER,\n",
        "  \"province_state\" TEXT,\n",
        "  \"country_region\" TEXT,\n",
        "  \"latitude\" REAL,\n",
        "  \"longitude\" REAL,\n",
        "  \"county\" TEXT,\n",
        "  \"state\" TEXT\n",
        ")\n",
        "\"\"\")"
      ],
      "metadata": {
        "id": "Y3w8zHDUWwWl"
      },
      "execution_count": null,
      "outputs": []
    },
    {
      "cell_type": "code",
      "source": [
        "cursor.excecute(\"\"\"\n",
        "copy dimData from ''\n",
        "credentials ''\n",
        "delimiter ','\n",
        "region 'ap-south-1'\n",
        "IGNOREHEADER 1\n",
        "\"\"\")"
      ],
      "metadata": {
        "id": "NdVYMySDXR3G"
      },
      "execution_count": null,
      "outputs": []
    }
  ]
}